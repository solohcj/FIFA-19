{
 "cells": [
  {
   "cell_type": "code",
   "execution_count": 1,
   "metadata": {},
   "outputs": [],
   "source": [
    "import numpy as np\n",
    "from sklearn import preprocessing"
   ]
  },
  {
   "cell_type": "code",
   "execution_count": 2,
   "metadata": {},
   "outputs": [],
   "source": [
    "raw_data = np.loadtxt(\"FIFA19_preprocessed.csv\", delimiter =\",\", skiprows=1)\n",
    "\n",
    "unscaled_inputs = raw_data[:, 1:-1]\n",
    "targets = raw_data[:, -1]\n",
    "\n",
    "# Note: Since we are treating this as a regression problem, we will not be balancing the dataset in this case."
   ]
  },
  {
   "cell_type": "markdown",
   "metadata": {},
   "source": [
    "## Standardizing the inputs"
   ]
  },
  {
   "cell_type": "code",
   "execution_count": 3,
   "metadata": {},
   "outputs": [],
   "source": [
    "scaler = preprocessing.StandardScaler()\n",
    "scaled_inputs = scaler.fit_transform(unscaled_inputs)"
   ]
  },
  {
   "cell_type": "markdown",
   "metadata": {},
   "source": [
    "## Shuffling the data"
   ]
  },
  {
   "cell_type": "code",
   "execution_count": 4,
   "metadata": {},
   "outputs": [],
   "source": [
    "shuffled_indices = np.arange(scaled_inputs.shape[0])\n",
    "np.random.shuffle(shuffled_indices)\n",
    "\n",
    "shuffled_scaled_inputs = scaled_inputs[shuffled_indices]\n",
    "shuffled_targets = targets[shuffled_indices]"
   ]
  },
  {
   "cell_type": "code",
   "execution_count": 5,
   "metadata": {},
   "outputs": [
    {
     "name": "stdout",
     "output_type": "stream",
     "text": [
      "(18140,)\n",
      "(18140, 328)\n"
     ]
    }
   ],
   "source": [
    "print (shuffled_targets.shape)\n",
    "print (shuffled_scaled_inputs.shape)"
   ]
  },
  {
   "cell_type": "markdown",
   "metadata": {},
   "source": [
    "## Splitting dataset into Train, Validation & Test"
   ]
  },
  {
   "cell_type": "markdown",
   "metadata": {},
   "source": [
    "Shall be splitting dataset into 80% Train, 10% Validation & 10% Test"
   ]
  },
  {
   "cell_type": "code",
   "execution_count": 6,
   "metadata": {},
   "outputs": [
    {
     "data": {
      "text/plain": [
       "(18140,)"
      ]
     },
     "execution_count": 6,
     "metadata": {},
     "output_type": "execute_result"
    }
   ],
   "source": [
    "shuffled_targets.shape"
   ]
  },
  {
   "cell_type": "code",
   "execution_count": 7,
   "metadata": {},
   "outputs": [
    {
     "name": "stdout",
     "output_type": "stream",
     "text": [
      "14512\n",
      "1814\n",
      "1814\n",
      "1.0\n"
     ]
    }
   ],
   "source": [
    "count = shuffled_scaled_inputs.shape[0]\n",
    "\n",
    "train_sample_count = int(0.8 * count)\n",
    "validation_sample_count = int(0.1 * count)\n",
    "test_sample_count = count - train_sample_count - validation_sample_count\n",
    "\n",
    "train_inputs = shuffled_scaled_inputs[:train_sample_count, :]\n",
    "train_targets = shuffled_targets[:train_sample_count]\n",
    "\n",
    "validation_inputs = shuffled_scaled_inputs[train_sample_count:validation_sample_count + train_sample_count, :]\n",
    "validation_targets = shuffled_targets[train_sample_count:validation_sample_count + train_sample_count]\n",
    "\n",
    "test_inputs = shuffled_scaled_inputs[validation_sample_count + train_sample_count:test_sample_count + validation_sample_count + train_sample_count, :]\n",
    "test_targets = shuffled_targets[validation_sample_count + train_sample_count:test_sample_count + validation_sample_count + train_sample_count]\n",
    "\n",
    "print (train_targets.shape[0])\n",
    "print (validation_targets.shape[0])\n",
    "print (test_targets.shape[0])\n",
    "\n",
    "print ((test_targets.shape[0] + validation_targets.shape[0] + train_targets.shape[0])/count)"
   ]
  },
  {
   "cell_type": "markdown",
   "metadata": {},
   "source": [
    "##### So we have:"
   ]
  },
  {
   "cell_type": "markdown",
   "metadata": {},
   "source": [
    "1. Training set: 14512 input/targets"
   ]
  },
  {
   "cell_type": "markdown",
   "metadata": {},
   "source": [
    "2. Validation set: 1814 input/targets"
   ]
  },
  {
   "cell_type": "markdown",
   "metadata": {},
   "source": [
    "3. Testing set: 1814 input/targets"
   ]
  },
  {
   "cell_type": "markdown",
   "metadata": {},
   "source": [
    "## Saving the 3 datasets in *.npz"
   ]
  },
  {
   "cell_type": "code",
   "execution_count": 8,
   "metadata": {},
   "outputs": [],
   "source": [
    "np.savez(\"FIFA19_data_train\", inputs=train_inputs, targets=train_targets)\n",
    "np.savez(\"FIFA19_data_validation\", inputs=validation_inputs, targets=validation_targets)\n",
    "np.savez(\"FIFA19_data_test\", inputs=test_inputs, targets=test_targets)"
   ]
  }
 ],
 "metadata": {
  "kernelspec": {
   "display_name": "Python 3",
   "language": "python",
   "name": "python3"
  },
  "language_info": {
   "codemirror_mode": {
    "name": "ipython",
    "version": 3
   },
   "file_extension": ".py",
   "mimetype": "text/x-python",
   "name": "python",
   "nbconvert_exporter": "python",
   "pygments_lexer": "ipython3",
   "version": "3.7.3"
  }
 },
 "nbformat": 4,
 "nbformat_minor": 2
}
