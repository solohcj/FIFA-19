{
 "cells": [
  {
   "cell_type": "code",
   "execution_count": 1,
   "metadata": {},
   "outputs": [
    {
     "name": "stderr",
     "output_type": "stream",
     "text": [
      "C:\\Users\\Solomon\\Anaconda3\\envs\\py3-TF2.0\\lib\\site-packages\\tensorflow\\python\\framework\\dtypes.py:516: FutureWarning: Passing (type, 1) or '1type' as a synonym of type is deprecated; in a future version of numpy, it will be understood as (type, (1,)) / '(1,)type'.\n",
      "  _np_qint8 = np.dtype([(\"qint8\", np.int8, 1)])\n",
      "C:\\Users\\Solomon\\Anaconda3\\envs\\py3-TF2.0\\lib\\site-packages\\tensorflow\\python\\framework\\dtypes.py:517: FutureWarning: Passing (type, 1) or '1type' as a synonym of type is deprecated; in a future version of numpy, it will be understood as (type, (1,)) / '(1,)type'.\n",
      "  _np_quint8 = np.dtype([(\"quint8\", np.uint8, 1)])\n",
      "C:\\Users\\Solomon\\Anaconda3\\envs\\py3-TF2.0\\lib\\site-packages\\tensorflow\\python\\framework\\dtypes.py:518: FutureWarning: Passing (type, 1) or '1type' as a synonym of type is deprecated; in a future version of numpy, it will be understood as (type, (1,)) / '(1,)type'.\n",
      "  _np_qint16 = np.dtype([(\"qint16\", np.int16, 1)])\n",
      "C:\\Users\\Solomon\\Anaconda3\\envs\\py3-TF2.0\\lib\\site-packages\\tensorflow\\python\\framework\\dtypes.py:519: FutureWarning: Passing (type, 1) or '1type' as a synonym of type is deprecated; in a future version of numpy, it will be understood as (type, (1,)) / '(1,)type'.\n",
      "  _np_quint16 = np.dtype([(\"quint16\", np.uint16, 1)])\n",
      "C:\\Users\\Solomon\\Anaconda3\\envs\\py3-TF2.0\\lib\\site-packages\\tensorflow\\python\\framework\\dtypes.py:520: FutureWarning: Passing (type, 1) or '1type' as a synonym of type is deprecated; in a future version of numpy, it will be understood as (type, (1,)) / '(1,)type'.\n",
      "  _np_qint32 = np.dtype([(\"qint32\", np.int32, 1)])\n",
      "C:\\Users\\Solomon\\Anaconda3\\envs\\py3-TF2.0\\lib\\site-packages\\tensorflow\\python\\framework\\dtypes.py:525: FutureWarning: Passing (type, 1) or '1type' as a synonym of type is deprecated; in a future version of numpy, it will be understood as (type, (1,)) / '(1,)type'.\n",
      "  np_resource = np.dtype([(\"resource\", np.ubyte, 1)])\n",
      "C:\\Users\\Solomon\\Anaconda3\\envs\\py3-TF2.0\\lib\\site-packages\\tensorboard\\compat\\tensorflow_stub\\dtypes.py:541: FutureWarning: Passing (type, 1) or '1type' as a synonym of type is deprecated; in a future version of numpy, it will be understood as (type, (1,)) / '(1,)type'.\n",
      "  _np_qint8 = np.dtype([(\"qint8\", np.int8, 1)])\n",
      "C:\\Users\\Solomon\\Anaconda3\\envs\\py3-TF2.0\\lib\\site-packages\\tensorboard\\compat\\tensorflow_stub\\dtypes.py:542: FutureWarning: Passing (type, 1) or '1type' as a synonym of type is deprecated; in a future version of numpy, it will be understood as (type, (1,)) / '(1,)type'.\n",
      "  _np_quint8 = np.dtype([(\"quint8\", np.uint8, 1)])\n",
      "C:\\Users\\Solomon\\Anaconda3\\envs\\py3-TF2.0\\lib\\site-packages\\tensorboard\\compat\\tensorflow_stub\\dtypes.py:543: FutureWarning: Passing (type, 1) or '1type' as a synonym of type is deprecated; in a future version of numpy, it will be understood as (type, (1,)) / '(1,)type'.\n",
      "  _np_qint16 = np.dtype([(\"qint16\", np.int16, 1)])\n",
      "C:\\Users\\Solomon\\Anaconda3\\envs\\py3-TF2.0\\lib\\site-packages\\tensorboard\\compat\\tensorflow_stub\\dtypes.py:544: FutureWarning: Passing (type, 1) or '1type' as a synonym of type is deprecated; in a future version of numpy, it will be understood as (type, (1,)) / '(1,)type'.\n",
      "  _np_quint16 = np.dtype([(\"quint16\", np.uint16, 1)])\n",
      "C:\\Users\\Solomon\\Anaconda3\\envs\\py3-TF2.0\\lib\\site-packages\\tensorboard\\compat\\tensorflow_stub\\dtypes.py:545: FutureWarning: Passing (type, 1) or '1type' as a synonym of type is deprecated; in a future version of numpy, it will be understood as (type, (1,)) / '(1,)type'.\n",
      "  _np_qint32 = np.dtype([(\"qint32\", np.int32, 1)])\n",
      "C:\\Users\\Solomon\\Anaconda3\\envs\\py3-TF2.0\\lib\\site-packages\\tensorboard\\compat\\tensorflow_stub\\dtypes.py:550: FutureWarning: Passing (type, 1) or '1type' as a synonym of type is deprecated; in a future version of numpy, it will be understood as (type, (1,)) / '(1,)type'.\n",
      "  np_resource = np.dtype([(\"resource\", np.ubyte, 1)])\n"
     ]
    }
   ],
   "source": [
    "import numpy as np\n",
    "import tensorflow as tf"
   ]
  },
  {
   "cell_type": "markdown",
   "metadata": {},
   "source": [
    "## Data"
   ]
  },
  {
   "cell_type": "code",
   "execution_count": 2,
   "metadata": {},
   "outputs": [],
   "source": [
    "npz = np.load(\"FIFA19_data_train.npz\")\n",
    "train_inputs, train_targets = npz[\"inputs\"].astype(np.float), npz[\"targets\"].astype(np.float)\n",
    "\n",
    "npz = np.load(\"FIFA19_data_validation.npz\")\n",
    "validation_inputs, validation_targets = npz[\"inputs\"].astype(np.float), npz[\"targets\"].astype(np.float)\n",
    "\n",
    "npz = np.load(\"FIFA19_data_test.npz\")\n",
    "test_inputs, test_targets = npz[\"inputs\"].astype(np.float), npz[\"targets\"].astype(float)"
   ]
  },
  {
   "cell_type": "markdown",
   "metadata": {},
   "source": [
    "## Model"
   ]
  },
  {
   "cell_type": "code",
   "execution_count": 31,
   "metadata": {
    "scrolled": false
   },
   "outputs": [
    {
     "name": "stdout",
     "output_type": "stream",
     "text": [
      "Train on 14512 samples, validate on 1814 samples\n",
      "Epoch 1/50\n",
      "14512/14512 - 0s - loss: 2926.5473 - mean_absolute_error: 49.4443 - val_loss: 2236.7184 - val_mean_absolute_error: 38.6360\n",
      "Epoch 2/50\n",
      "14512/14512 - 0s - loss: 1657.3645 - mean_absolute_error: 30.3784 - val_loss: 279.2974 - val_mean_absolute_error: 13.6053\n",
      "Epoch 3/50\n",
      "14512/14512 - 0s - loss: 173.5304 - mean_absolute_error: 7.9972 - val_loss: 115.3049 - val_mean_absolute_error: 5.6312\n",
      "Epoch 4/50\n",
      "14512/14512 - 0s - loss: 92.5204 - mean_absolute_error: 5.3035 - val_loss: 110.6369 - val_mean_absolute_error: 5.4156\n",
      "Epoch 5/50\n",
      "14512/14512 - 0s - loss: 58.3369 - mean_absolute_error: 5.0361 - val_loss: 42.7488 - val_mean_absolute_error: 4.8454\n",
      "Epoch 6/50\n",
      "14512/14512 - 0s - loss: 33.2462 - mean_absolute_error: 4.4767 - val_loss: 30.6247 - val_mean_absolute_error: 4.1266\n",
      "Epoch 7/50\n",
      "14512/14512 - 0s - loss: 21.0692 - mean_absolute_error: 3.5178 - val_loss: 17.0116 - val_mean_absolute_error: 3.0070\n",
      "Epoch 8/50\n",
      "14512/14512 - 0s - loss: 12.8338 - mean_absolute_error: 2.7095 - val_loss: 11.7955 - val_mean_absolute_error: 2.4960\n",
      "Epoch 9/50\n",
      "14512/14512 - 0s - loss: 9.4701 - mean_absolute_error: 2.3061 - val_loss: 9.8521 - val_mean_absolute_error: 2.1951\n",
      "Epoch 10/50\n",
      "14512/14512 - 0s - loss: 7.1944 - mean_absolute_error: 2.0133 - val_loss: 8.7188 - val_mean_absolute_error: 2.0087\n",
      "Epoch 11/50\n",
      "14512/14512 - 0s - loss: 5.8782 - mean_absolute_error: 1.8234 - val_loss: 7.5782 - val_mean_absolute_error: 1.8743\n",
      "Epoch 12/50\n",
      "14512/14512 - 0s - loss: 5.0021 - mean_absolute_error: 1.6800 - val_loss: 7.3953 - val_mean_absolute_error: 1.8223\n",
      "Epoch 13/50\n",
      "14512/14512 - 0s - loss: 4.4889 - mean_absolute_error: 1.5916 - val_loss: 6.9873 - val_mean_absolute_error: 1.6940\n",
      "Epoch 14/50\n",
      "14512/14512 - 0s - loss: 4.1557 - mean_absolute_error: 1.5366 - val_loss: 6.4662 - val_mean_absolute_error: 1.6621\n",
      "Epoch 15/50\n",
      "14512/14512 - 0s - loss: 3.8661 - mean_absolute_error: 1.4757 - val_loss: 6.1461 - val_mean_absolute_error: 1.5878\n",
      "Epoch 16/50\n",
      "14512/14512 - 0s - loss: 3.5475 - mean_absolute_error: 1.4138 - val_loss: 6.1892 - val_mean_absolute_error: 1.5993\n",
      "Epoch 17/50\n",
      "14512/14512 - 0s - loss: 3.3387 - mean_absolute_error: 1.3687 - val_loss: 6.8412 - val_mean_absolute_error: 1.7109\n",
      "Epoch 18/50\n",
      "14512/14512 - 0s - loss: 3.3265 - mean_absolute_error: 1.3719 - val_loss: 6.2768 - val_mean_absolute_error: 1.5760\n",
      "Epoch 19/50\n",
      "14512/14512 - 0s - loss: 3.1398 - mean_absolute_error: 1.3272 - val_loss: 6.1291 - val_mean_absolute_error: 1.5440\n",
      "Epoch 20/50\n",
      "14512/14512 - 0s - loss: 3.0151 - mean_absolute_error: 1.2990 - val_loss: 6.3826 - val_mean_absolute_error: 1.5265\n",
      "Epoch 21/50\n",
      "14512/14512 - 0s - loss: 2.8114 - mean_absolute_error: 1.2536 - val_loss: 6.3371 - val_mean_absolute_error: 1.5099\n",
      "Epoch 22/50\n",
      "14512/14512 - 0s - loss: 2.7428 - mean_absolute_error: 1.2269 - val_loss: 6.8586 - val_mean_absolute_error: 1.6495\n",
      "Epoch 23/50\n",
      "14512/14512 - 0s - loss: 2.7263 - mean_absolute_error: 1.2298 - val_loss: 6.3591 - val_mean_absolute_error: 1.4908\n"
     ]
    }
   ],
   "source": [
    "input_size = 328\n",
    "output_size = 1\n",
    "\n",
    "hidden_layer_size = 200\n",
    "\n",
    "model = tf.keras.Sequential([\n",
    "    tf.keras.layers.Dense(hidden_layer_size, activation=\"tanh\"),\n",
    "    tf.keras.layers.Dense(hidden_layer_size, activation=\"tanh\"),\n",
    "    tf.keras.layers.Dense(hidden_layer_size, activation=\"tanh\"),\n",
    "    tf.keras.layers.Dense(hidden_layer_size, activation=\"tanh\"),\n",
    "    tf.keras.layers.Dense(output_size, activation=\"linear\"),\n",
    "])\n",
    "\n",
    "model.compile(optimizer=\"adam\", loss=\"mean_squared_error\", metrics=[\"mean_absolute_error\"])\n",
    "\n",
    "batch_size = 100\n",
    "max_epochs = 50\n",
    "\n",
    "early_stopping = tf.keras.callbacks.EarlyStopping(patience=4)\n",
    "\n",
    "hist = model.fit(train_inputs,\n",
    "          train_targets,\n",
    "          batch_size = batch_size,\n",
    "          epochs = max_epochs,\n",
    "          callbacks = [early_stopping],\n",
    "          validation_data = (validation_inputs, validation_targets),\n",
    "          verbose = 2\n",
    "          )"
   ]
  },
  {
   "cell_type": "code",
   "execution_count": 35,
   "metadata": {},
   "outputs": [
    {
     "data": {
      "text/plain": [
       "[49.444283,\n",
       " 30.378445,\n",
       " 7.9972367,\n",
       " 5.303463,\n",
       " 5.036108,\n",
       " 4.476741,\n",
       " 3.5177937,\n",
       " 2.7095315,\n",
       " 2.306076,\n",
       " 2.0132804,\n",
       " 1.8234304,\n",
       " 1.6799991,\n",
       " 1.5916392,\n",
       " 1.5365525,\n",
       " 1.4756523,\n",
       " 1.4138088,\n",
       " 1.368671,\n",
       " 1.3718891,\n",
       " 1.3271854,\n",
       " 1.2990315,\n",
       " 1.2536039,\n",
       " 1.2268995,\n",
       " 1.2298234]"
      ]
     },
     "execution_count": 35,
     "metadata": {},
     "output_type": "execute_result"
    }
   ],
   "source": [
    "hist.history[\"mean_absolute_error\"]"
   ]
  },
  {
   "cell_type": "markdown",
   "metadata": {},
   "source": [
    "## Evaluating the model"
   ]
  },
  {
   "cell_type": "code",
   "execution_count": 26,
   "metadata": {
    "scrolled": true
   },
   "outputs": [
    {
     "name": "stdout",
     "output_type": "stream",
     "text": [
      "1814/1814 [==============================] - 0s 14us/sample - loss: 4.2450 - mean_absolute_error: 1.4273\n"
     ]
    }
   ],
   "source": [
    "test_loss, test_accuracy = model.evaluate(test_inputs, test_targets)"
   ]
  },
  {
   "cell_type": "code",
   "execution_count": 8,
   "metadata": {},
   "outputs": [
    {
     "name": "stdout",
     "output_type": "stream",
     "text": [
      "Test Loss: 4.25, Expected Deviation for Prediction: 1.43\n"
     ]
    }
   ],
   "source": [
    "print (\"Test Loss: {:.2f}, Expected Deviation for Prediction: {:.2f}\".format(test_loss, test_accuracy))"
   ]
  }
 ],
 "metadata": {
  "kernelspec": {
   "display_name": "TensorFlow2.0-beta1",
   "language": "python",
   "name": "py3-tf2.0"
  },
  "language_info": {
   "codemirror_mode": {
    "name": "ipython",
    "version": 3
   },
   "file_extension": ".py",
   "mimetype": "text/x-python",
   "name": "python",
   "nbconvert_exporter": "python",
   "pygments_lexer": "ipython3",
   "version": "3.6.9"
  }
 },
 "nbformat": 4,
 "nbformat_minor": 2
}
